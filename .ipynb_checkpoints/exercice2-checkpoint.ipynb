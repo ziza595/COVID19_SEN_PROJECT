{
 "cells": [
  {
   "cell_type": "markdown",
   "id": "bca98c57",
   "metadata": {},
   "source": [
    "a) Déterminer les lois marginales de X et Y et indiquer si ces variables aléatoires sont indépendantes."
   ]
  },
  {
   "cell_type": "code",
   "execution_count": 1,
   "id": "44c6e146",
   "metadata": {},
   "outputs": [],
   "source": [
    "import numpy as np\n",
    "import pandas as pd"
   ]
  }
 ],
 "metadata": {
  "kernelspec": {
   "display_name": "Python 3",
   "language": "python",
   "name": "python3"
  },
  "language_info": {
   "codemirror_mode": {
    "name": "ipython",
    "version": 3
   },
   "file_extension": ".py",
   "mimetype": "text/x-python",
   "name": "python",
   "nbconvert_exporter": "python",
   "pygments_lexer": "ipython3",
   "version": "3.8.10"
  }
 },
 "nbformat": 4,
 "nbformat_minor": 5
}
